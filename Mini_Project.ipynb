{
  "nbformat": 4,
  "nbformat_minor": 0,
  "metadata": {
    "colab": {
      "name": "Mini Project.ipynb",
      "provenance": [],
      "collapsed_sections": [],
      "mount_file_id": "1ZuPwHniXzW0dWvfa3uf01MEtEsspGa3_",
      "authorship_tag": "ABX9TyOkrZn3ecmKjHxxBgbvPoYI",
      "include_colab_link": true
    },
    "kernelspec": {
      "name": "python3",
      "display_name": "Python 3"
    }
  },
  "cells": [
    {
      "cell_type": "markdown",
      "metadata": {
        "id": "view-in-github",
        "colab_type": "text"
      },
      "source": [
        "<a href=\"https://colab.research.google.com/github/sowrab9949/Mini-Project-on-Image-classification/blob/master/Mini_Project.ipynb\" target=\"_parent\"><img src=\"https://colab.research.google.com/assets/colab-badge.svg\" alt=\"Open In Colab\"/></a>"
      ]
    },
    {
      "cell_type": "code",
      "metadata": {
        "id": "Vfy7G1Ppi4n6",
        "colab_type": "code",
        "colab": {
          "base_uri": "https://localhost:8080/",
          "height": 105
        },
        "outputId": "acef3ff3-0965-42cc-9522-b98f76538251"
      },
      "source": [
        "! pip install bing-image-downloader"
      ],
      "execution_count": null,
      "outputs": [
        {
          "output_type": "stream",
          "text": [
            "Collecting bing-image-downloader\n",
            "  Downloading https://files.pythonhosted.org/packages/0d/bf/537a61030b84ae4cd5022d5c7b014fd9bc3ce7c02358919153a6658a61d3/bing_image_downloader-1.0.4-py3-none-any.whl\n",
            "Installing collected packages: bing-image-downloader\n",
            "Successfully installed bing-image-downloader-1.0.4\n"
          ],
          "name": "stdout"
        }
      ]
    },
    {
      "cell_type": "code",
      "metadata": {
        "id": "CT9peEqAvNyL",
        "colab_type": "code",
        "colab": {
          "base_uri": "https://localhost:8080/",
          "height": 207
        },
        "outputId": "e450ad82-f7f0-494c-b71b-2ff3f314bbd3"
      },
      "source": [
        "! pip install plotly==4.5.2"
      ],
      "execution_count": null,
      "outputs": [
        {
          "output_type": "stream",
          "text": [
            "Collecting plotly==4.5.2\n",
            "\u001b[?25l  Downloading https://files.pythonhosted.org/packages/a9/12/7d795064f87d1070975e55daa443ff5e5ee7eb6c8a9eaf41f3d6a5f91a91/plotly-4.5.2-py2.py3-none-any.whl (7.1MB)\n",
            "\u001b[K     |████████████████████████████████| 7.1MB 2.3MB/s \n",
            "\u001b[?25hRequirement already satisfied: six in /usr/local/lib/python3.6/dist-packages (from plotly==4.5.2) (1.15.0)\n",
            "Requirement already satisfied: retrying>=1.3.3 in /usr/local/lib/python3.6/dist-packages (from plotly==4.5.2) (1.3.3)\n",
            "Installing collected packages: plotly\n",
            "  Found existing installation: plotly 4.4.1\n",
            "    Uninstalling plotly-4.4.1:\n",
            "      Successfully uninstalled plotly-4.4.1\n",
            "Successfully installed plotly-4.5.2\n"
          ],
          "name": "stdout"
        }
      ]
    },
    {
      "cell_type": "code",
      "metadata": {
        "id": "KwnjHCKWjUYt",
        "colab_type": "code",
        "colab": {
          "base_uri": "https://localhost:8080/",
          "height": 34
        },
        "outputId": "3eeadc8a-0276-4d0d-d960-62ce84b62b2b"
      },
      "source": [
        "cd /content/drive/My Drive/smartknower/Project image classifier"
      ],
      "execution_count": null,
      "outputs": [
        {
          "output_type": "stream",
          "text": [
            "/content/drive/My Drive/smartknower/Project image classifier\n"
          ],
          "name": "stdout"
        }
      ]
    },
    {
      "cell_type": "code",
      "metadata": {
        "id": "JDqKi_PkjpI6",
        "colab_type": "code",
        "colab": {
          "base_uri": "https://localhost:8080/",
          "height": 34
        },
        "outputId": "c7125a0b-c3aa-41bf-e4b4-9eb4750ea283"
      },
      "source": [
        "!mkdir pictures"
      ],
      "execution_count": null,
      "outputs": [
        {
          "output_type": "stream",
          "text": [
            "mkdir: cannot create directory ‘pictures’: File exists\n"
          ],
          "name": "stdout"
        }
      ]
    },
    {
      "cell_type": "code",
      "metadata": {
        "id": "Pw-Msd5Rj1Lk",
        "colab_type": "code",
        "colab": {
          "base_uri": "https://localhost:8080/",
          "height": 34
        },
        "outputId": "54410760-9b26-4560-a9eb-fcf5b42ede2d"
      },
      "source": [
        "cd pictures"
      ],
      "execution_count": null,
      "outputs": [
        {
          "output_type": "stream",
          "text": [
            "/content/drive/My Drive/smartknower/Project image classifier/pictures\n"
          ],
          "name": "stdout"
        }
      ]
    },
    {
      "cell_type": "code",
      "metadata": {
        "id": "uIWGgfpXj-O_",
        "colab_type": "code",
        "colab": {
          "base_uri": "https://localhost:8080/",
          "height": 1000
        },
        "outputId": "0b96b0f8-fa63-4336-bb6a-085ce73c515c"
      },
      "source": [
        "from bing_image_downloader import downloader\n",
        "downloader.download('Covid 19 N95 Masks',limit = 30,output_dir = 'pictures')"
      ],
      "execution_count": null,
      "outputs": [
        {
          "output_type": "stream",
          "text": [
            "\n",
            "\n",
            "[!!]Indexing page: 1\n",
            "\n",
            "[%] Indexed 30 Images on Page 1.\n",
            "\n",
            "===============================================\n",
            "\n",
            "[%] Downloading Image #1 from https://i.ytimg.com/vi/WHYUsdAUi1w/maxresdefault.jpg\n",
            "[%] File Downloaded !\n",
            "\n",
            "[%] Downloading Image #2 from https://media.npr.org/assets/img/2020/04/03/coronavirus-3m-masks-n95_wide-fc59461b741e300db365174612129402ec97db5f.jpg?s=1400\n",
            "[%] File Downloaded !\n",
            "\n",
            "[%] Downloading Image #3 from https://i.ebayimg.com/images/i/323369881846-0-1/s-l1000.jpg\n",
            "[%] File Downloaded !\n",
            "\n",
            "[%] Downloading Image #4 from https://thumbor.forbes.com/thumbor/fit-in/1200x0/filters%3Aformat%28jpg%29/https%3A%2F%2Fspecials-images.forbesimg.com%2Fimageserve%2F1208482559%2F0x0.jpg\n",
            "[%] File Downloaded !\n",
            "\n",
            "[%] Downloading Image #5 from https://media.blogto.com/articles/20200124-n95masks.jpg?w=2048&amp;cmd=resize_then_crop&amp;height=1365&amp;quality=70\n",
            "[%] File Downloaded !\n",
            "\n",
            "[%] Downloading Image #6 from https://news.immitate.com/wp-content/uploads/2020/03/3m-doubles-output-of-n95-respirator-masks-amid-coronavirus-outbreak-new-york-post.jpg\n",
            "[!] Issue getting: https://news.immitate.com/wp-content/uploads/2020/03/3m-doubles-output-of-n95-respirator-masks-amid-coronavirus-outbreak-new-york-post.jpg\n",
            "[!] Error:: HTTP Error 404: Not Found\n",
            "[%] Downloading Image #6 from https://i1.wp.com/www.sages.org/wp-content/uploads/2020/04/n95-shutterstock-scaled.jpg?fit=2560%2C1707&amp;ssl=1\n",
            "[%] File Downloaded !\n",
            "\n",
            "[%] Downloading Image #7 from https://cnet2.cbsistatic.com/img/Sx4gzsSMgF5zbDVpT1-JR9CbD-w=/1092x0/2020/01/29/3069caa5-a96e-47df-af6f-510e07dc820d/n95-respirator.png\n",
            "[%] File Downloaded !\n",
            "\n",
            "[%] Downloading Image #8 from https://g.foolcdn.com/editorial/images/560929/3mfacemask.jpg\n",
            "[%] File Downloaded !\n",
            "\n",
            "[%] Downloading Image #9 from https://thumbor.forbes.com/thumbor/fit-in/1200x0/filters%3Aformat%28jpg%29/https%3A%2F%2Fspecials-images.forbesimg.com%2Fimageserve%2F1197628057%2F0x0.jpg\n",
            "[%] File Downloaded !\n",
            "\n",
            "[%] Downloading Image #10 from https://temporaryprotection.co.uk/media/ecom/prodlg/ffp2_coronavirus_p2_n65_n99_n95_face_mask.jpg\n",
            "[%] File Downloaded !\n",
            "\n",
            "[%] Downloading Image #11 from https://i.ytimg.com/vi/Ihd9PS7bZV4/maxresdefault.jpg\n",
            "[%] File Downloaded !\n",
            "\n",
            "[%] Downloading Image #12 from http://static.grainger.com/rp/s/is/image/Grainger/1AGD3_AS01\n",
            "[%] File Downloaded !\n",
            "\n",
            "[%] Downloading Image #13 from https://www.envirosafetyproducts.com/media/product/d6b/3mtm-8210-n95-particulate-respirator-box-of-20-c38.jpg\n",
            "[%] File Downloaded !\n",
            "\n",
            "[%] Downloading Image #14 from https://media.npr.org/assets/img/2020/01/28/masks-1_wide-1a0751325fe7715c4a71890f01e015c6bbeac58c.jpg\n",
            "[%] File Downloaded !\n",
            "\n",
            "[%] Downloading Image #15 from http://myhealthcare365.com/wp-content/uploads/2019/03/Particulate-Respirato-8210-N5.jpg\n",
            "[%] File Downloaded !\n",
            "\n",
            "[%] Downloading Image #16 from https://www.gobetterhome.com/wp-content/uploads/20-PCS-White-Masks-Mouth-Face-Mask-Safety-anti-coronavirus-Mask-KN95-Cotton-Anti-Dust-Pm2-2.jpg\n",
            "[!] Issue getting: https://www.gobetterhome.com/wp-content/uploads/20-PCS-White-Masks-Mouth-Face-Mask-Safety-anti-coronavirus-Mask-KN95-Cotton-Anti-Dust-Pm2-2.jpg\n",
            "[!] Error:: <urlopen error [SSL: CERTIFICATE_VERIFY_FAILED] certificate verify failed (_ssl.c:852)>\n",
            "[%] Downloading Image #16 from https://www.healthing.ca/wp-content/uploads/2020/03/ws20200305cp09.jpg\n",
            "[%] File Downloaded !\n",
            "\n",
            "[%] Downloading Image #17 from https://kubrick.htvapps.com/htv-prod-media.s3.amazonaws.com/images/facemask-jpg-1582736210.jpg?crop=1.00xw:0.848xh;0,0.0367xh&amp;resize=1200:*\n",
            "[%] File Downloaded !\n",
            "\n",
            "[%] Downloading Image #18 from https://wonderfulengineering.com/wp-content/uploads/2020/03/C32CE071-BEAC-4207-9D6F-4B12F9551BC6.jpeg\n",
            "[%] File Downloaded !\n",
            "\n",
            "[%] Downloading Image #19 from https://kanecountyconnects.com/wp-content/uploads/2020/03/Screen-Shot-2020-03-23-at-4.57.54-PM-470x260.png\n",
            "[%] File Downloaded !\n",
            "\n",
            "[%] Downloading Image #20 from https://cdn2.img.sputniknews.com/images/107817/87/1078178758.jpg\n",
            "[%] File Downloaded !\n",
            "\n",
            "[%] Downloading Image #21 from https://i2.wp.com/www.techarp.com/wp-content/uploads/2020/01/Surgical-mask-vs-N95-respirator.jpg?resize=1000%2C500&amp;ssl=1\n",
            "[%] File Downloaded !\n",
            "\n",
            "[%] Downloading Image #22 from https://evaculife.com.au/wp-content/uploads/2020/03/N95-Mask-Coronavirus-with-Respiratory-Valve-5-layered.jpg\n",
            "[%] File Downloaded !\n",
            "\n",
            "[%] Downloading Image #23 from https://www.hotshelf.com/public/uploads/1581658590marti5o1u423cdnp4%20(1).png\n",
            "[%] File Downloaded !\n",
            "\n",
            "[%] Downloading Image #24 from https://s3-us-west-2.amazonaws.com/commercehq-userfiles-master/commercehq-store-25459f059518266c51dc3bfd20d60050_da39a3ee5e6b4b0d3255bfef95601890afd80709/344a4cf9af43474c82f44c7bc8ab2b53_Activated_Carbon_Dust_Mask_PeekWise_13938462-fe39-4730-84ac-ed0b32a2bfb2_1024x10242x.jpg\n",
            "[%] File Downloaded !\n",
            "\n",
            "[%] Downloading Image #25 from https://3.bp.blogspot.com/-yZNFhOacvss/Vbp7b25qxnI/AAAAAAAAGRI/qvpfwRZdCks/s1600/z70005.gif\n",
            "[%] File Downloaded !\n",
            "\n",
            "[%] Downloading Image #26 from http://static.libsyn.com/p/assets/9/8/5/7/985704f56f2eda89/JMI200077.jpg\n",
            "[%] File Downloaded !\n",
            "\n",
            "[%] Downloading Image #27 from https://specials-images.forbesimg.com/imageserve/5e88befc01879f000703d4ce/960x0.jpg?cropX1=1934&amp;cropX2=5557&amp;cropY1=161&amp;cropY2=2576\n",
            "[%] File Downloaded !\n",
            "\n",
            "[%] Downloading Image #28 from https://i.ytimg.com/vi/eJfLC4Z5oxc/maxresdefault.jpg\n",
            "[%] File Downloaded !\n",
            "\n",
            "\n",
            "\n",
            "[!!]Indexing page: 2\n",
            "\n",
            "[%] Indexed 35 Images on Page 2.\n",
            "\n",
            "===============================================\n",
            "\n",
            "[%] Downloading Image #29 from https://i.ytimg.com/vi/WHYUsdAUi1w/maxresdefault.jpg\n",
            "[%] File Downloaded !\n",
            "\n",
            "[%] Downloading Image #30 from https://media.npr.org/assets/img/2020/04/03/coronavirus-3m-masks-n95_wide-fc59461b741e300db365174612129402ec97db5f.jpg?s=1400\n",
            "[%] File Downloaded !\n",
            "\n",
            "\n",
            "\n",
            "[%] Done. Downloaded 30 images.\n",
            "\n",
            "===============================================\n",
            "\n"
          ],
          "name": "stdout"
        }
      ]
    },
    {
      "cell_type": "code",
      "metadata": {
        "id": "Eh8ERE4ZmdAl",
        "colab_type": "code",
        "colab": {
          "base_uri": "https://localhost:8080/",
          "height": 1000
        },
        "outputId": "5ac6837b-ed48-4aca-fac2-b6351111461e"
      },
      "source": [
        "from bing_image_downloader import downloader\n",
        "downloader.download('Cloth Mask Covid',limit = 30,output_dir = 'pictures')"
      ],
      "execution_count": null,
      "outputs": [
        {
          "output_type": "stream",
          "text": [
            "\n",
            "\n",
            "[!!]Indexing page: 1\n",
            "\n",
            "[%] Indexed 30 Images on Page 1.\n",
            "\n",
            "===============================================\n",
            "\n",
            "[%] Downloading Image #1 from https://www.gannett-cdn.com/presto/2020/03/24/PLSJ/aa9fed4b-2751-4d80-94af-c2f302c4696a-Clothmask_ClaireWhite_Charlotte.jpg?crop=959,540,x0,y36&amp;width=1600&amp;height=800&amp;fit=bounds\n",
            "[%] File Downloaded !\n",
            "\n",
            "[%] Downloading Image #2 from https://filipinotimes.net/wp-content/uploads/2020/04/cloth-masks.jpg\n",
            "[%] File Downloaded !\n",
            "\n",
            "[%] Downloading Image #3 from https://www.wsbtv.com/resizer/wNkK_4OocbbFjd2f28HV-fhDM-w=/1200x675/arc-anglerfish-arc2-prod-cmg.s3.amazonaws.com/public/5ALCGGVTFRHKBKLODBSX77L4UU.jpg\n",
            "[%] File Downloaded !\n",
            "\n",
            "[%] Downloading Image #4 from https://media.ktvb.com/assets/KGW/images/f886f792-7516-49e5-a537-4ca2231c7815/f886f792-7516-49e5-a537-4ca2231c7815_1920x1080.png\n",
            "[%] File Downloaded !\n",
            "\n",
            "[%] Downloading Image #5 from https://www.gannett-cdn.com/presto/2020/03/24/PLSJ/24e54a88-d1f9-495d-8f77-395b9c85a377-Clothmask_TaylorMay_Portland.jpg?width=540&amp;height=&amp;fit=bounds&amp;auto=webp\n",
            "[%] File Downloaded !\n",
            "\n",
            "[%] Downloading Image #6 from https://mymodernmet.com/wp/wp-content/uploads/2020/04/cloth-face-mask-0.jpg\n",
            "[%] File Downloaded !\n",
            "\n",
            "[%] Downloading Image #7 from https://www.twincities.com/wp-content/uploads/2020/04/AP20087616655843.jpg?w=1024&amp;h=683\n",
            "[%] File Downloaded !\n",
            "\n",
            "[%] Downloading Image #8 from https://cdn.mos.cms.futurecdn.net/d3yJ7aBraAoDrPEJHbaz7C-1200-80.jpg\n",
            "[%] File Downloaded !\n",
            "\n",
            "[%] Downloading Image #9 from https://assets.bigcartel.com/product_images/257615057/mautto-cloth-face-covering-patterns-sm.jpg?auto=format&amp;fit=max&amp;w=2000\n",
            "[%] File Downloaded !\n",
            "\n",
            "[%] Downloading Image #10 from https://www.sciencenews.org/wp-content/uploads/2020/04/040920_eg_covid-mask_feat-1028x579.jpg\n",
            "[%] File Downloaded !\n",
            "\n",
            "[%] Downloading Image #11 from https://www.gannett-cdn.com/presto/2020/04/01/USAT/791eac16-d9b3-495d-8c43-3aa75b1255e4-Face_mask_by_Tara_Reed.jpg?crop=2549,1434,x0,y286&amp;width=2549&amp;height=1434&amp;format=pjpg&amp;auto=webp\n",
            "[%] File Downloaded !\n",
            "\n",
            "[%] Downloading Image #12 from https://www.cleveland.com/resizer/AkhekizvV6-GMwD5LxGCLndTSlY=/1280x0/smart/cloudfront-us-east-1.images.arcpublishing.com/advancelocal/IQUAMS6QXBAUPBZETL6RCXDC2I.png\n",
            "[%] File Downloaded !\n",
            "\n",
            "[%] Downloading Image #13 from https://clarksvillenow.sagacom.com/wp-content/blogs.dir/43/files/2020/04/shutterstock_1683745294.jpg\n",
            "[%] File Downloaded !\n",
            "\n",
            "[%] Downloading Image #14 from https://express-images.franklymedia.com/6616/sites/305/2020/04/08180550/COVID-19-mask-pix-300x200.png\n",
            "[%] File Downloaded !\n",
            "\n",
            "[%] Downloading Image #15 from https://images.fastcompany.net/image/upload/w_1280,f_auto,q_auto,fl_lossy/wp-cms/uploads/2020/03/p-1-90482143-not-all-masks-are-created-equal-cloth-offers-little-protection-against-coronavirus.jpg\n",
            "[%] File Downloaded !\n",
            "\n",
            "[%] Downloading Image #16 from https://bestgamingpro.com/wp-content/uploads/2020/04/CDC-recommends-people-wear-cloth-masks-to-block-the-spread.jpg\n",
            "[%] File Downloaded !\n",
            "\n",
            "[%] Downloading Image #17 from https://www.styleimagination.com/wp-content/uploads/2020/03/91121281_212841266602065_6911620896874408897_n.jpg\n",
            "[%] File Downloaded !\n",
            "\n",
            "[%] Downloading Image #18 from https://d1hfln2sfez66z.cloudfront.net/03-21-2020/t_c89e5cdca1e642c9805bbde30ee4fc4d_name_D8CFDD7DA04543A4B6F3EE3321C81E37.jpg\n",
            "[Error]Invalid image, not saving https://d1hfln2sfez66z.cloudfront.net/03-21-2020/t_c89e5cdca1e642c9805bbde30ee4fc4d_name_D8CFDD7DA04543A4B6F3EE3321C81E37.jpg\n",
            "\n",
            "[!] Issue getting: https://d1hfln2sfez66z.cloudfront.net/03-21-2020/t_c89e5cdca1e642c9805bbde30ee4fc4d_name_D8CFDD7DA04543A4B6F3EE3321C81E37.jpg\n",
            "[!] Error:: No active exception to reraise\n",
            "[%] Downloading Image #18 from https://d2g8igdw686xgo.cloudfront.net/47187824_1586049605219536_r.jpeg\n",
            "[%] File Downloaded !\n",
            "\n",
            "[%] Downloading Image #19 from https://www.headcovers.com/media/wysiwyg/best-face-masks-coronavirus-12.jpg\n",
            "[!] Issue getting: https://www.headcovers.com/media/wysiwyg/best-face-masks-coronavirus-12.jpg\n",
            "[!] Error:: HTTP Error 403: Forbidden\n",
            "[%] Downloading Image #19 from https://heavyeditorial.files.wordpress.com/2020/04/pjimage-2020-04-03t191815.825.jpg?quality=65&amp;strip=all&amp;w=780\n",
            "[!] Issue getting: https://heavyeditorial.files.wordpress.com/2020/04/pjimage-2020-04-03t191815.825.jpg?quality=65&amp;strip=all&amp;w=780\n",
            "[!] Error:: HTTP Error 403: Forbidden\n",
            "[%] Downloading Image #19 from https://www.refinery29.com/images/9662843.jpg?crop=40%3A21\n",
            "[%] File Downloaded !\n",
            "\n",
            "[%] Downloading Image #20 from https://s19499.pcdn.co/wp-content/uploads/2020/04/mask-self-prevention-ill-made-of-fabric-for-dust-and-germs-pm-25-19-picture-id1213467700.jpg\n",
            "[%] File Downloaded !\n",
            "\n",
            "[%] Downloading Image #21 from https://weirdnews.info/wp-content/uploads/2020/04/CDC-recommends-everyone-wear-cloth-face-masks-to-slow-COVID-19-spread.jpg\n",
            "[%] File Downloaded !\n",
            "\n",
            "[%] Downloading Image #22 from https://media.wired.com/photos/5e8e154a845a6c00080f0ee9/master/w_2560%2Cc_limit/Gear-Mask-Making-1207508009.jpg\n",
            "[%] File Downloaded !\n",
            "\n",
            "[%] Downloading Image #23 from https://img.okadoc.com/en/wp-content/2020/04/a54272d7-how-to-make-cloth-mask.jpg\n",
            "[%] File Downloaded !\n",
            "\n",
            "[%] Downloading Image #24 from https://bckonline.com/wp-content/uploads/2020/04/Coronavirus.jpg\n",
            "[%] File Downloaded !\n",
            "\n",
            "[%] Downloading Image #25 from https://www.headcovers.com/media/catalog/product/cache/ba642c93a0efc71830935b1d4e0de39d/f/a/face-mask-cotton-flowers-cotton-cloth-face-masks.jpg\n",
            "[!] Issue getting: https://www.headcovers.com/media/catalog/product/cache/ba642c93a0efc71830935b1d4e0de39d/f/a/face-mask-cotton-flowers-cotton-cloth-face-masks.jpg\n",
            "[!] Error:: HTTP Error 403: Forbidden\n",
            "[%] Downloading Image #25 from http://thegreentimes.co.za/wp-content/uploads/2020/04/cloth-face-mask-coronavirus2b.jpg\n",
            "[%] File Downloaded !\n",
            "\n",
            "[%] Downloading Image #26 from https://s1.ibtimes.com/sites/www.ibtimes.com/files/styles/full/public/2020/04/07/coronavirus-homemade-facemask-protection.jpg\n",
            "[%] File Downloaded !\n",
            "\n",
            "\n",
            "\n",
            "[!!]Indexing page: 2\n",
            "\n",
            "[%] Indexed 35 Images on Page 2.\n",
            "\n",
            "===============================================\n",
            "\n",
            "[%] Downloading Image #27 from https://www.gannett-cdn.com/presto/2020/03/24/PLSJ/aa9fed4b-2751-4d80-94af-c2f302c4696a-Clothmask_ClaireWhite_Charlotte.jpg?crop=959,540,x0,y36&amp;width=1600&amp;height=800&amp;fit=bounds\n",
            "[%] File Downloaded !\n",
            "\n",
            "[%] Downloading Image #28 from https://filipinotimes.net/wp-content/uploads/2020/04/cloth-masks.jpg\n",
            "[%] File Downloaded !\n",
            "\n",
            "[%] Downloading Image #29 from https://www.wsbtv.com/resizer/wNkK_4OocbbFjd2f28HV-fhDM-w=/1200x675/arc-anglerfish-arc2-prod-cmg.s3.amazonaws.com/public/5ALCGGVTFRHKBKLODBSX77L4UU.jpg\n",
            "[%] File Downloaded !\n",
            "\n",
            "[%] Downloading Image #30 from https://media.ktvb.com/assets/KGW/images/f886f792-7516-49e5-a537-4ca2231c7815/f886f792-7516-49e5-a537-4ca2231c7815_1920x1080.png\n",
            "[%] File Downloaded !\n",
            "\n",
            "\n",
            "\n",
            "[%] Done. Downloaded 30 images.\n",
            "\n",
            "===============================================\n",
            "\n"
          ],
          "name": "stdout"
        }
      ]
    },
    {
      "cell_type": "code",
      "metadata": {
        "id": "7-U-QP-SnLD-",
        "colab_type": "code",
        "colab": {}
      },
      "source": [
        "import os\n",
        "import numpy as np\n",
        "import pandas as pd\n",
        "import matplotlib.pyplot as plt\n",
        "from skimage.io import imread\n",
        "from skimage.transform import resize \n",
        "from sklearn.model_selection import train_test_split\n",
        "from sklearn.model_selection import GridSearchCV\n",
        "from sklearn.neighbors import KNeighborsClassifier\n",
        "from sklearn.metrics import accuracy_score,confusion_matrix,classification_report"
      ],
      "execution_count": 10,
      "outputs": []
    },
    {
      "cell_type": "code",
      "metadata": {
        "id": "ihDjQm-roN0-",
        "colab_type": "code",
        "colab": {}
      },
      "source": [
        "# Reshaping and flattening of data\n",
        "out_pic = []\n",
        "flat_pic = []\n",
        "pic = []\n",
        "path = '/content/drive/My Drive/smartknower/Project image classifier/pictures/pictures/'\n",
        "for dirpath, dirnames, filenames in os.walk(path):\n",
        "  for files in filenames:\n",
        "    dis = dirpath.split('/')[-1]\n",
        "    out_pic.append(dis)\n",
        "    img = imread(f'{path}{dis}/{files}')\n",
        "    re_pic = resize(img,(100,100,3))\n",
        "    flat_pic.append(re_pic.flatten())\n",
        "    pic.append(re_pic)\n",
        "flat_pic = np.array(flat_pic)\n",
        "out_pic = np.array(out_pic)\n",
        "pic= np.array(pic)\n"
      ],
      "execution_count": 11,
      "outputs": []
    },
    {
      "cell_type": "code",
      "metadata": {
        "id": "jF2k9pJ37-HK",
        "colab_type": "code",
        "colab": {
          "base_uri": "https://localhost:8080/",
          "height": 136
        },
        "outputId": "1124d366-9758-4883-8845-cad8b19ef90f"
      },
      "source": [
        "print(flat_pic)"
      ],
      "execution_count": 12,
      "outputs": [
        {
          "output_type": "stream",
          "text": [
            "[[0.92627451 0.92627451 0.93411765 ... 0.97215686 0.96431373 0.98823529]\n",
            " [0.00392157 0.00784314 0.01176471 ... 0.24705882 0.26666667 0.27843137]\n",
            " [1.         1.         1.         ... 1.         1.         1.        ]\n",
            " ...\n",
            " [0.6429902  0.63137255 0.65882353 ... 0.52941176 0.52941176 0.52156863]\n",
            " [0.61568627 0.51764706 0.39607843 ... 0.7254902  0.65490196 0.55686275]\n",
            " [0.3751634  0.1727451  0.84581699 ... 0.48369281 0.13921569 0.8372549 ]]\n"
          ],
          "name": "stdout"
        }
      ]
    },
    {
      "cell_type": "code",
      "metadata": {
        "id": "2FTlpXBepJhZ",
        "colab_type": "code",
        "colab": {
          "base_uri": "https://localhost:8080/",
          "height": 423
        },
        "outputId": "5d3e5cef-fe0b-4a34-dd15-5f6781af7258"
      },
      "source": [
        "#Creating DataFrame\n",
        "df = pd.DataFrame(flat_pic)\n",
        "df['Output'] = out_pic\n",
        "df.head()"
      ],
      "execution_count": 13,
      "outputs": [
        {
          "output_type": "execute_result",
          "data": {
            "text/html": [
              "<div>\n",
              "<style scoped>\n",
              "    .dataframe tbody tr th:only-of-type {\n",
              "        vertical-align: middle;\n",
              "    }\n",
              "\n",
              "    .dataframe tbody tr th {\n",
              "        vertical-align: top;\n",
              "    }\n",
              "\n",
              "    .dataframe thead th {\n",
              "        text-align: right;\n",
              "    }\n",
              "</style>\n",
              "<table border=\"1\" class=\"dataframe\">\n",
              "  <thead>\n",
              "    <tr style=\"text-align: right;\">\n",
              "      <th></th>\n",
              "      <th>0</th>\n",
              "      <th>1</th>\n",
              "      <th>2</th>\n",
              "      <th>3</th>\n",
              "      <th>4</th>\n",
              "      <th>5</th>\n",
              "      <th>6</th>\n",
              "      <th>7</th>\n",
              "      <th>8</th>\n",
              "      <th>9</th>\n",
              "      <th>10</th>\n",
              "      <th>11</th>\n",
              "      <th>12</th>\n",
              "      <th>13</th>\n",
              "      <th>14</th>\n",
              "      <th>15</th>\n",
              "      <th>16</th>\n",
              "      <th>17</th>\n",
              "      <th>18</th>\n",
              "      <th>19</th>\n",
              "      <th>20</th>\n",
              "      <th>21</th>\n",
              "      <th>22</th>\n",
              "      <th>23</th>\n",
              "      <th>24</th>\n",
              "      <th>25</th>\n",
              "      <th>26</th>\n",
              "      <th>27</th>\n",
              "      <th>28</th>\n",
              "      <th>29</th>\n",
              "      <th>30</th>\n",
              "      <th>31</th>\n",
              "      <th>32</th>\n",
              "      <th>33</th>\n",
              "      <th>34</th>\n",
              "      <th>35</th>\n",
              "      <th>36</th>\n",
              "      <th>37</th>\n",
              "      <th>38</th>\n",
              "      <th>39</th>\n",
              "      <th>...</th>\n",
              "      <th>29961</th>\n",
              "      <th>29962</th>\n",
              "      <th>29963</th>\n",
              "      <th>29964</th>\n",
              "      <th>29965</th>\n",
              "      <th>29966</th>\n",
              "      <th>29967</th>\n",
              "      <th>29968</th>\n",
              "      <th>29969</th>\n",
              "      <th>29970</th>\n",
              "      <th>29971</th>\n",
              "      <th>29972</th>\n",
              "      <th>29973</th>\n",
              "      <th>29974</th>\n",
              "      <th>29975</th>\n",
              "      <th>29976</th>\n",
              "      <th>29977</th>\n",
              "      <th>29978</th>\n",
              "      <th>29979</th>\n",
              "      <th>29980</th>\n",
              "      <th>29981</th>\n",
              "      <th>29982</th>\n",
              "      <th>29983</th>\n",
              "      <th>29984</th>\n",
              "      <th>29985</th>\n",
              "      <th>29986</th>\n",
              "      <th>29987</th>\n",
              "      <th>29988</th>\n",
              "      <th>29989</th>\n",
              "      <th>29990</th>\n",
              "      <th>29991</th>\n",
              "      <th>29992</th>\n",
              "      <th>29993</th>\n",
              "      <th>29994</th>\n",
              "      <th>29995</th>\n",
              "      <th>29996</th>\n",
              "      <th>29997</th>\n",
              "      <th>29998</th>\n",
              "      <th>29999</th>\n",
              "      <th>Output</th>\n",
              "    </tr>\n",
              "  </thead>\n",
              "  <tbody>\n",
              "    <tr>\n",
              "      <th>0</th>\n",
              "      <td>0.926275</td>\n",
              "      <td>0.926275</td>\n",
              "      <td>0.934118</td>\n",
              "      <td>0.925882</td>\n",
              "      <td>0.925882</td>\n",
              "      <td>0.933725</td>\n",
              "      <td>0.925882</td>\n",
              "      <td>0.925882</td>\n",
              "      <td>0.933725</td>\n",
              "      <td>0.929804</td>\n",
              "      <td>0.929804</td>\n",
              "      <td>0.937647</td>\n",
              "      <td>0.929804</td>\n",
              "      <td>0.929804</td>\n",
              "      <td>0.937647</td>\n",
              "      <td>0.929804</td>\n",
              "      <td>0.929804</td>\n",
              "      <td>0.937647</td>\n",
              "      <td>0.929804</td>\n",
              "      <td>0.929804</td>\n",
              "      <td>0.937647</td>\n",
              "      <td>0.929804</td>\n",
              "      <td>0.929804</td>\n",
              "      <td>0.937647</td>\n",
              "      <td>0.929804</td>\n",
              "      <td>0.929804</td>\n",
              "      <td>0.937647</td>\n",
              "      <td>0.930196</td>\n",
              "      <td>0.930196</td>\n",
              "      <td>0.938039</td>\n",
              "      <td>0.930196</td>\n",
              "      <td>0.930196</td>\n",
              "      <td>0.938039</td>\n",
              "      <td>0.934118</td>\n",
              "      <td>0.933725</td>\n",
              "      <td>0.941961</td>\n",
              "      <td>0.934118</td>\n",
              "      <td>0.933725</td>\n",
              "      <td>0.941961</td>\n",
              "      <td>0.934118</td>\n",
              "      <td>...</td>\n",
              "      <td>0.539412</td>\n",
              "      <td>0.639216</td>\n",
              "      <td>0.623333</td>\n",
              "      <td>0.836353</td>\n",
              "      <td>0.872824</td>\n",
              "      <td>0.872941</td>\n",
              "      <td>0.952941</td>\n",
              "      <td>0.952941</td>\n",
              "      <td>0.972549</td>\n",
              "      <td>0.960039</td>\n",
              "      <td>0.953333</td>\n",
              "      <td>0.972549</td>\n",
              "      <td>0.964314</td>\n",
              "      <td>0.956863</td>\n",
              "      <td>0.976471</td>\n",
              "      <td>0.964706</td>\n",
              "      <td>0.960784</td>\n",
              "      <td>0.972549</td>\n",
              "      <td>0.964706</td>\n",
              "      <td>0.960784</td>\n",
              "      <td>0.968627</td>\n",
              "      <td>0.964706</td>\n",
              "      <td>0.964706</td>\n",
              "      <td>0.968627</td>\n",
              "      <td>0.964706</td>\n",
              "      <td>0.964706</td>\n",
              "      <td>0.968627</td>\n",
              "      <td>0.964706</td>\n",
              "      <td>0.960784</td>\n",
              "      <td>0.968627</td>\n",
              "      <td>0.966667</td>\n",
              "      <td>0.964706</td>\n",
              "      <td>0.976471</td>\n",
              "      <td>0.972549</td>\n",
              "      <td>0.964706</td>\n",
              "      <td>0.985490</td>\n",
              "      <td>0.972157</td>\n",
              "      <td>0.964314</td>\n",
              "      <td>0.988235</td>\n",
              "      <td>Covid 19 N95 Masks</td>\n",
              "    </tr>\n",
              "    <tr>\n",
              "      <th>1</th>\n",
              "      <td>0.003922</td>\n",
              "      <td>0.007843</td>\n",
              "      <td>0.011765</td>\n",
              "      <td>0.002216</td>\n",
              "      <td>0.007843</td>\n",
              "      <td>0.011765</td>\n",
              "      <td>0.001706</td>\n",
              "      <td>0.005627</td>\n",
              "      <td>0.013471</td>\n",
              "      <td>0.003922</td>\n",
              "      <td>0.007843</td>\n",
              "      <td>0.015686</td>\n",
              "      <td>0.003922</td>\n",
              "      <td>0.007843</td>\n",
              "      <td>0.015686</td>\n",
              "      <td>0.000000</td>\n",
              "      <td>0.003922</td>\n",
              "      <td>0.011765</td>\n",
              "      <td>0.000000</td>\n",
              "      <td>0.003922</td>\n",
              "      <td>0.011765</td>\n",
              "      <td>0.000000</td>\n",
              "      <td>0.003922</td>\n",
              "      <td>0.011765</td>\n",
              "      <td>0.001706</td>\n",
              "      <td>0.003922</td>\n",
              "      <td>0.011765</td>\n",
              "      <td>0.000000</td>\n",
              "      <td>0.003922</td>\n",
              "      <td>0.011765</td>\n",
              "      <td>0.000000</td>\n",
              "      <td>0.003922</td>\n",
              "      <td>0.011765</td>\n",
              "      <td>0.000000</td>\n",
              "      <td>0.003922</td>\n",
              "      <td>0.011765</td>\n",
              "      <td>0.000000</td>\n",
              "      <td>0.003922</td>\n",
              "      <td>0.011765</td>\n",
              "      <td>0.000000</td>\n",
              "      <td>...</td>\n",
              "      <td>0.262745</td>\n",
              "      <td>0.278431</td>\n",
              "      <td>0.290196</td>\n",
              "      <td>0.262745</td>\n",
              "      <td>0.278431</td>\n",
              "      <td>0.290196</td>\n",
              "      <td>0.261637</td>\n",
              "      <td>0.278431</td>\n",
              "      <td>0.290196</td>\n",
              "      <td>0.258824</td>\n",
              "      <td>0.276471</td>\n",
              "      <td>0.288235</td>\n",
              "      <td>0.262745</td>\n",
              "      <td>0.278431</td>\n",
              "      <td>0.290196</td>\n",
              "      <td>0.258824</td>\n",
              "      <td>0.278431</td>\n",
              "      <td>0.290196</td>\n",
              "      <td>0.258824</td>\n",
              "      <td>0.278431</td>\n",
              "      <td>0.290196</td>\n",
              "      <td>0.258824</td>\n",
              "      <td>0.274510</td>\n",
              "      <td>0.286275</td>\n",
              "      <td>0.254902</td>\n",
              "      <td>0.270588</td>\n",
              "      <td>0.282353</td>\n",
              "      <td>0.250980</td>\n",
              "      <td>0.270588</td>\n",
              "      <td>0.282353</td>\n",
              "      <td>0.250980</td>\n",
              "      <td>0.270588</td>\n",
              "      <td>0.282353</td>\n",
              "      <td>0.250980</td>\n",
              "      <td>0.266667</td>\n",
              "      <td>0.278431</td>\n",
              "      <td>0.247059</td>\n",
              "      <td>0.266667</td>\n",
              "      <td>0.278431</td>\n",
              "      <td>Covid 19 N95 Masks</td>\n",
              "    </tr>\n",
              "    <tr>\n",
              "      <th>2</th>\n",
              "      <td>1.000000</td>\n",
              "      <td>1.000000</td>\n",
              "      <td>1.000000</td>\n",
              "      <td>1.000000</td>\n",
              "      <td>1.000000</td>\n",
              "      <td>1.000000</td>\n",
              "      <td>1.000000</td>\n",
              "      <td>1.000000</td>\n",
              "      <td>1.000000</td>\n",
              "      <td>1.000000</td>\n",
              "      <td>1.000000</td>\n",
              "      <td>1.000000</td>\n",
              "      <td>1.000000</td>\n",
              "      <td>1.000000</td>\n",
              "      <td>1.000000</td>\n",
              "      <td>1.000000</td>\n",
              "      <td>1.000000</td>\n",
              "      <td>1.000000</td>\n",
              "      <td>1.000000</td>\n",
              "      <td>1.000000</td>\n",
              "      <td>1.000000</td>\n",
              "      <td>1.000000</td>\n",
              "      <td>1.000000</td>\n",
              "      <td>1.000000</td>\n",
              "      <td>1.000000</td>\n",
              "      <td>1.000000</td>\n",
              "      <td>1.000000</td>\n",
              "      <td>1.000000</td>\n",
              "      <td>1.000000</td>\n",
              "      <td>1.000000</td>\n",
              "      <td>1.000000</td>\n",
              "      <td>1.000000</td>\n",
              "      <td>1.000000</td>\n",
              "      <td>1.000000</td>\n",
              "      <td>1.000000</td>\n",
              "      <td>1.000000</td>\n",
              "      <td>1.000000</td>\n",
              "      <td>1.000000</td>\n",
              "      <td>1.000000</td>\n",
              "      <td>1.000000</td>\n",
              "      <td>...</td>\n",
              "      <td>1.000000</td>\n",
              "      <td>1.000000</td>\n",
              "      <td>1.000000</td>\n",
              "      <td>1.000000</td>\n",
              "      <td>1.000000</td>\n",
              "      <td>1.000000</td>\n",
              "      <td>1.000000</td>\n",
              "      <td>1.000000</td>\n",
              "      <td>1.000000</td>\n",
              "      <td>1.000000</td>\n",
              "      <td>1.000000</td>\n",
              "      <td>1.000000</td>\n",
              "      <td>1.000000</td>\n",
              "      <td>1.000000</td>\n",
              "      <td>1.000000</td>\n",
              "      <td>1.000000</td>\n",
              "      <td>1.000000</td>\n",
              "      <td>1.000000</td>\n",
              "      <td>1.000000</td>\n",
              "      <td>1.000000</td>\n",
              "      <td>1.000000</td>\n",
              "      <td>1.000000</td>\n",
              "      <td>1.000000</td>\n",
              "      <td>1.000000</td>\n",
              "      <td>1.000000</td>\n",
              "      <td>1.000000</td>\n",
              "      <td>1.000000</td>\n",
              "      <td>1.000000</td>\n",
              "      <td>1.000000</td>\n",
              "      <td>1.000000</td>\n",
              "      <td>1.000000</td>\n",
              "      <td>1.000000</td>\n",
              "      <td>1.000000</td>\n",
              "      <td>1.000000</td>\n",
              "      <td>1.000000</td>\n",
              "      <td>1.000000</td>\n",
              "      <td>1.000000</td>\n",
              "      <td>1.000000</td>\n",
              "      <td>1.000000</td>\n",
              "      <td>Covid 19 N95 Masks</td>\n",
              "    </tr>\n",
              "    <tr>\n",
              "      <th>3</th>\n",
              "      <td>0.741176</td>\n",
              "      <td>0.709804</td>\n",
              "      <td>0.756863</td>\n",
              "      <td>0.741176</td>\n",
              "      <td>0.709804</td>\n",
              "      <td>0.756863</td>\n",
              "      <td>0.745098</td>\n",
              "      <td>0.713725</td>\n",
              "      <td>0.757833</td>\n",
              "      <td>0.752941</td>\n",
              "      <td>0.721569</td>\n",
              "      <td>0.760784</td>\n",
              "      <td>0.752941</td>\n",
              "      <td>0.725490</td>\n",
              "      <td>0.760784</td>\n",
              "      <td>0.758824</td>\n",
              "      <td>0.731373</td>\n",
              "      <td>0.762745</td>\n",
              "      <td>0.764706</td>\n",
              "      <td>0.737255</td>\n",
              "      <td>0.768627</td>\n",
              "      <td>0.764706</td>\n",
              "      <td>0.737255</td>\n",
              "      <td>0.768627</td>\n",
              "      <td>0.764706</td>\n",
              "      <td>0.737255</td>\n",
              "      <td>0.768627</td>\n",
              "      <td>0.768627</td>\n",
              "      <td>0.741176</td>\n",
              "      <td>0.772549</td>\n",
              "      <td>0.772549</td>\n",
              "      <td>0.745098</td>\n",
              "      <td>0.776471</td>\n",
              "      <td>0.776471</td>\n",
              "      <td>0.749020</td>\n",
              "      <td>0.780392</td>\n",
              "      <td>0.780392</td>\n",
              "      <td>0.752941</td>\n",
              "      <td>0.784314</td>\n",
              "      <td>0.784314</td>\n",
              "      <td>...</td>\n",
              "      <td>0.709804</td>\n",
              "      <td>0.686275</td>\n",
              "      <td>0.729412</td>\n",
              "      <td>0.707863</td>\n",
              "      <td>0.684333</td>\n",
              "      <td>0.725490</td>\n",
              "      <td>0.705882</td>\n",
              "      <td>0.682353</td>\n",
              "      <td>0.725490</td>\n",
              "      <td>0.703941</td>\n",
              "      <td>0.680412</td>\n",
              "      <td>0.721569</td>\n",
              "      <td>0.699029</td>\n",
              "      <td>0.675500</td>\n",
              "      <td>0.717647</td>\n",
              "      <td>0.696098</td>\n",
              "      <td>0.672569</td>\n",
              "      <td>0.717647</td>\n",
              "      <td>0.694118</td>\n",
              "      <td>0.671578</td>\n",
              "      <td>0.717647</td>\n",
              "      <td>0.690196</td>\n",
              "      <td>0.666667</td>\n",
              "      <td>0.713725</td>\n",
              "      <td>0.682353</td>\n",
              "      <td>0.658824</td>\n",
              "      <td>0.705882</td>\n",
              "      <td>0.678431</td>\n",
              "      <td>0.654902</td>\n",
              "      <td>0.701961</td>\n",
              "      <td>0.674510</td>\n",
              "      <td>0.650980</td>\n",
              "      <td>0.698039</td>\n",
              "      <td>0.670588</td>\n",
              "      <td>0.648049</td>\n",
              "      <td>0.696098</td>\n",
              "      <td>0.666667</td>\n",
              "      <td>0.643137</td>\n",
              "      <td>0.690196</td>\n",
              "      <td>Covid 19 N95 Masks</td>\n",
              "    </tr>\n",
              "    <tr>\n",
              "      <th>4</th>\n",
              "      <td>0.028394</td>\n",
              "      <td>0.000000</td>\n",
              "      <td>0.027451</td>\n",
              "      <td>0.035294</td>\n",
              "      <td>0.000000</td>\n",
              "      <td>0.031373</td>\n",
              "      <td>0.035294</td>\n",
              "      <td>0.001275</td>\n",
              "      <td>0.031373</td>\n",
              "      <td>0.039216</td>\n",
              "      <td>0.003922</td>\n",
              "      <td>0.039216</td>\n",
              "      <td>0.043137</td>\n",
              "      <td>0.011765</td>\n",
              "      <td>0.047059</td>\n",
              "      <td>0.050980</td>\n",
              "      <td>0.011765</td>\n",
              "      <td>0.054902</td>\n",
              "      <td>0.050980</td>\n",
              "      <td>0.011765</td>\n",
              "      <td>0.054902</td>\n",
              "      <td>0.050980</td>\n",
              "      <td>0.015686</td>\n",
              "      <td>0.058824</td>\n",
              "      <td>0.050980</td>\n",
              "      <td>0.015686</td>\n",
              "      <td>0.058824</td>\n",
              "      <td>0.054978</td>\n",
              "      <td>0.019608</td>\n",
              "      <td>0.062745</td>\n",
              "      <td>0.058824</td>\n",
              "      <td>0.019608</td>\n",
              "      <td>0.066667</td>\n",
              "      <td>0.062745</td>\n",
              "      <td>0.023529</td>\n",
              "      <td>0.066667</td>\n",
              "      <td>0.062745</td>\n",
              "      <td>0.023529</td>\n",
              "      <td>0.070588</td>\n",
              "      <td>0.058824</td>\n",
              "      <td>...</td>\n",
              "      <td>0.868627</td>\n",
              "      <td>0.879069</td>\n",
              "      <td>0.898039</td>\n",
              "      <td>0.672078</td>\n",
              "      <td>0.721706</td>\n",
              "      <td>0.802680</td>\n",
              "      <td>0.296512</td>\n",
              "      <td>0.358039</td>\n",
              "      <td>0.531273</td>\n",
              "      <td>0.055198</td>\n",
              "      <td>0.086488</td>\n",
              "      <td>0.237018</td>\n",
              "      <td>0.055176</td>\n",
              "      <td>0.079980</td>\n",
              "      <td>0.209392</td>\n",
              "      <td>0.083922</td>\n",
              "      <td>0.118951</td>\n",
              "      <td>0.258892</td>\n",
              "      <td>0.028725</td>\n",
              "      <td>0.050765</td>\n",
              "      <td>0.173608</td>\n",
              "      <td>0.013039</td>\n",
              "      <td>0.031373</td>\n",
              "      <td>0.137433</td>\n",
              "      <td>0.011765</td>\n",
              "      <td>0.023529</td>\n",
              "      <td>0.116747</td>\n",
              "      <td>0.003922</td>\n",
              "      <td>0.011765</td>\n",
              "      <td>0.098039</td>\n",
              "      <td>0.000000</td>\n",
              "      <td>0.004814</td>\n",
              "      <td>0.086275</td>\n",
              "      <td>0.000000</td>\n",
              "      <td>0.000000</td>\n",
              "      <td>0.074510</td>\n",
              "      <td>0.000000</td>\n",
              "      <td>0.000000</td>\n",
              "      <td>0.062745</td>\n",
              "      <td>Covid 19 N95 Masks</td>\n",
              "    </tr>\n",
              "  </tbody>\n",
              "</table>\n",
              "<p>5 rows × 30001 columns</p>\n",
              "</div>"
            ],
            "text/plain": [
              "          0         1         2  ...     29998     29999              Output\n",
              "0  0.926275  0.926275  0.934118  ...  0.964314  0.988235  Covid 19 N95 Masks\n",
              "1  0.003922  0.007843  0.011765  ...  0.266667  0.278431  Covid 19 N95 Masks\n",
              "2  1.000000  1.000000  1.000000  ...  1.000000  1.000000  Covid 19 N95 Masks\n",
              "3  0.741176  0.709804  0.756863  ...  0.643137  0.690196  Covid 19 N95 Masks\n",
              "4  0.028394  0.000000  0.027451  ...  0.000000  0.062745  Covid 19 N95 Masks\n",
              "\n",
              "[5 rows x 30001 columns]"
            ]
          },
          "metadata": {
            "tags": []
          },
          "execution_count": 13
        }
      ]
    },
    {
      "cell_type": "code",
      "metadata": {
        "id": "enHbp9vCrmqj",
        "colab_type": "code",
        "colab": {
          "base_uri": "https://localhost:8080/",
          "height": 34
        },
        "outputId": "1da6250e-e687-4f87-fe06-bf2afc9134b4"
      },
      "source": [
        "\n",
        "df['Output'].nunique()"
      ],
      "execution_count": 14,
      "outputs": [
        {
          "output_type": "execute_result",
          "data": {
            "text/plain": [
              "2"
            ]
          },
          "metadata": {
            "tags": []
          },
          "execution_count": 14
        }
      ]
    },
    {
      "cell_type": "code",
      "metadata": {
        "id": "hVDYGUoru1os",
        "colab_type": "code",
        "colab": {
          "base_uri": "https://localhost:8080/",
          "height": 68
        },
        "outputId": "2f59d143-7dde-48d7-bb2e-95793616be40"
      },
      "source": [
        "df['Output'].value_counts()"
      ],
      "execution_count": 15,
      "outputs": [
        {
          "output_type": "execute_result",
          "data": {
            "text/plain": [
              "Cloth Mask Covid      30\n",
              "Covid 19 N95 Masks    30\n",
              "Name: Output, dtype: int64"
            ]
          },
          "metadata": {
            "tags": []
          },
          "execution_count": 15
        }
      ]
    },
    {
      "cell_type": "code",
      "metadata": {
        "id": "IHQsUMfVwHXD",
        "colab_type": "code",
        "colab": {}
      },
      "source": [
        "# Training and testing data.\n",
        "x = df.drop('Output',axis=1).values\n",
        "y = df['Output'].values"
      ],
      "execution_count": 16,
      "outputs": []
    },
    {
      "cell_type": "code",
      "metadata": {
        "id": "XHu24NVfzIH5",
        "colab_type": "code",
        "colab": {}
      },
      "source": [
        "x_train,x_test,y_train,y_test = train_test_split(x,y,random_state = 0)"
      ],
      "execution_count": 17,
      "outputs": []
    },
    {
      "cell_type": "code",
      "metadata": {
        "id": "MsogUajq44pP",
        "colab_type": "code",
        "colab": {
          "base_uri": "https://localhost:8080/",
          "height": 221
        },
        "outputId": "4bce2eb0-84f2-43a0-b407-a10a64d51524"
      },
      "source": [
        "# Using gridsearch_cv for best param.\n",
        "param= {'n_neighbors':np.arange(1,48)}\n",
        "model = KNeighborsClassifier()\n",
        "model_cv = GridSearchCV(model,param)\n",
        "model_cv.fit(x,y)"
      ],
      "execution_count": 18,
      "outputs": [
        {
          "output_type": "execute_result",
          "data": {
            "text/plain": [
              "GridSearchCV(cv=None, error_score=nan,\n",
              "             estimator=KNeighborsClassifier(algorithm='auto', leaf_size=30,\n",
              "                                            metric='minkowski',\n",
              "                                            metric_params=None, n_jobs=None,\n",
              "                                            n_neighbors=5, p=2,\n",
              "                                            weights='uniform'),\n",
              "             iid='deprecated', n_jobs=None,\n",
              "             param_grid={'n_neighbors': array([ 1,  2,  3,  4,  5,  6,  7,  8,  9, 10, 11, 12, 13, 14, 15, 16, 17,\n",
              "       18, 19, 20, 21, 22, 23, 24, 25, 26, 27, 28, 29, 30, 31, 32, 33, 34,\n",
              "       35, 36, 37, 38, 39, 40, 41, 42, 43, 44, 45, 46, 47])},\n",
              "             pre_dispatch='2*n_jobs', refit=True, return_train_score=False,\n",
              "             scoring=None, verbose=0)"
            ]
          },
          "metadata": {
            "tags": []
          },
          "execution_count": 18
        }
      ]
    },
    {
      "cell_type": "code",
      "metadata": {
        "id": "icBClsCG46bK",
        "colab_type": "code",
        "colab": {
          "base_uri": "https://localhost:8080/",
          "height": 34
        },
        "outputId": "4e79aee5-2f72-45cf-eaaa-29c856d32913"
      },
      "source": [
        "model_cv.best_params_"
      ],
      "execution_count": 19,
      "outputs": [
        {
          "output_type": "execute_result",
          "data": {
            "text/plain": [
              "{'n_neighbors': 23}"
            ]
          },
          "metadata": {
            "tags": []
          },
          "execution_count": 19
        }
      ]
    },
    {
      "cell_type": "code",
      "metadata": {
        "id": "En_rcQGF5Kfz",
        "colab_type": "code",
        "colab": {
          "base_uri": "https://localhost:8080/",
          "height": 68
        },
        "outputId": "a4e642aa-faf6-4a9b-e6ae-27d379d3ecb5"
      },
      "source": [
        "model = KNeighborsClassifier(n_neighbors=23)\n",
        "model.fit(x_train,y_train)"
      ],
      "execution_count": 20,
      "outputs": [
        {
          "output_type": "execute_result",
          "data": {
            "text/plain": [
              "KNeighborsClassifier(algorithm='auto', leaf_size=30, metric='minkowski',\n",
              "                     metric_params=None, n_jobs=None, n_neighbors=23, p=2,\n",
              "                     weights='uniform')"
            ]
          },
          "metadata": {
            "tags": []
          },
          "execution_count": 20
        }
      ]
    },
    {
      "cell_type": "code",
      "metadata": {
        "id": "M2XcVf9e5h-x",
        "colab_type": "code",
        "colab": {
          "base_uri": "https://localhost:8080/",
          "height": 119
        },
        "outputId": "2dfe7eaa-ac80-4275-b435-41fa55fdbb2d"
      },
      "source": [
        "y_pred= model.predict(x_test)\n",
        "y_pred"
      ],
      "execution_count": 21,
      "outputs": [
        {
          "output_type": "execute_result",
          "data": {
            "text/plain": [
              "array(['Cloth Mask Covid', 'Cloth Mask Covid', 'Cloth Mask Covid',\n",
              "       'Covid 19 N95 Masks', 'Covid 19 N95 Masks', 'Covid 19 N95 Masks',\n",
              "       'Cloth Mask Covid', 'Cloth Mask Covid', 'Cloth Mask Covid',\n",
              "       'Covid 19 N95 Masks', 'Cloth Mask Covid', 'Covid 19 N95 Masks',\n",
              "       'Cloth Mask Covid', 'Covid 19 N95 Masks', 'Cloth Mask Covid'],\n",
              "      dtype=object)"
            ]
          },
          "metadata": {
            "tags": []
          },
          "execution_count": 21
        }
      ]
    },
    {
      "cell_type": "code",
      "metadata": {
        "id": "kJErwVHj6kFr",
        "colab_type": "code",
        "colab": {
          "base_uri": "https://localhost:8080/",
          "height": 119
        },
        "outputId": "5c99b704-90f5-4279-b55e-92654153d661"
      },
      "source": [
        "y_test"
      ],
      "execution_count": 22,
      "outputs": [
        {
          "output_type": "execute_result",
          "data": {
            "text/plain": [
              "array(['Covid 19 N95 Masks', 'Cloth Mask Covid', 'Cloth Mask Covid',\n",
              "       'Covid 19 N95 Masks', 'Covid 19 N95 Masks', 'Covid 19 N95 Masks',\n",
              "       'Cloth Mask Covid', 'Cloth Mask Covid', 'Cloth Mask Covid',\n",
              "       'Covid 19 N95 Masks', 'Covid 19 N95 Masks', 'Covid 19 N95 Masks',\n",
              "       'Cloth Mask Covid', 'Cloth Mask Covid', 'Cloth Mask Covid'],\n",
              "      dtype=object)"
            ]
          },
          "metadata": {
            "tags": []
          },
          "execution_count": 22
        }
      ]
    },
    {
      "cell_type": "code",
      "metadata": {
        "id": "IXa1VjHy6p3I",
        "colab_type": "code",
        "colab": {
          "base_uri": "https://localhost:8080/",
          "height": 34
        },
        "outputId": "a52be7a2-885c-4c14-9554-39c56f0cae63"
      },
      "source": [
        "# Evaluating the model.\n",
        "accuracy_score(y_test,y_pred)"
      ],
      "execution_count": 23,
      "outputs": [
        {
          "output_type": "execute_result",
          "data": {
            "text/plain": [
              "0.8"
            ]
          },
          "metadata": {
            "tags": []
          },
          "execution_count": 23
        }
      ]
    },
    {
      "cell_type": "code",
      "metadata": {
        "id": "njWt5SuE4G2E",
        "colab_type": "code",
        "colab": {
          "base_uri": "https://localhost:8080/",
          "height": 51
        },
        "outputId": "3b5b2d14-347b-4ba8-c329-1dcca40ed3aa"
      },
      "source": [
        "confusion_matrix(y_test,y_pred)"
      ],
      "execution_count": 24,
      "outputs": [
        {
          "output_type": "execute_result",
          "data": {
            "text/plain": [
              "array([[7, 1],\n",
              "       [2, 5]])"
            ]
          },
          "metadata": {
            "tags": []
          },
          "execution_count": 24
        }
      ]
    },
    {
      "cell_type": "code",
      "metadata": {
        "id": "oWDrpJ3-6--k",
        "colab_type": "code",
        "colab": {
          "base_uri": "https://localhost:8080/",
          "height": 173
        },
        "outputId": "6c440e12-968d-4485-9ce2-241506e23fcd"
      },
      "source": [
        "pd.crosstab(y_test,y_pred, rownames=['Actual'], colnames=['Predicted'], margins=True)"
      ],
      "execution_count": 25,
      "outputs": [
        {
          "output_type": "execute_result",
          "data": {
            "text/html": [
              "<div>\n",
              "<style scoped>\n",
              "    .dataframe tbody tr th:only-of-type {\n",
              "        vertical-align: middle;\n",
              "    }\n",
              "\n",
              "    .dataframe tbody tr th {\n",
              "        vertical-align: top;\n",
              "    }\n",
              "\n",
              "    .dataframe thead th {\n",
              "        text-align: right;\n",
              "    }\n",
              "</style>\n",
              "<table border=\"1\" class=\"dataframe\">\n",
              "  <thead>\n",
              "    <tr style=\"text-align: right;\">\n",
              "      <th>Predicted</th>\n",
              "      <th>Cloth Mask Covid</th>\n",
              "      <th>Covid 19 N95 Masks</th>\n",
              "      <th>All</th>\n",
              "    </tr>\n",
              "    <tr>\n",
              "      <th>Actual</th>\n",
              "      <th></th>\n",
              "      <th></th>\n",
              "      <th></th>\n",
              "    </tr>\n",
              "  </thead>\n",
              "  <tbody>\n",
              "    <tr>\n",
              "      <th>Cloth Mask Covid</th>\n",
              "      <td>7</td>\n",
              "      <td>1</td>\n",
              "      <td>8</td>\n",
              "    </tr>\n",
              "    <tr>\n",
              "      <th>Covid 19 N95 Masks</th>\n",
              "      <td>2</td>\n",
              "      <td>5</td>\n",
              "      <td>7</td>\n",
              "    </tr>\n",
              "    <tr>\n",
              "      <th>All</th>\n",
              "      <td>9</td>\n",
              "      <td>6</td>\n",
              "      <td>15</td>\n",
              "    </tr>\n",
              "  </tbody>\n",
              "</table>\n",
              "</div>"
            ],
            "text/plain": [
              "Predicted           Cloth Mask Covid  Covid 19 N95 Masks  All\n",
              "Actual                                                       \n",
              "Cloth Mask Covid                   7                   1    8\n",
              "Covid 19 N95 Masks                 2                   5    7\n",
              "All                                9                   6   15"
            ]
          },
          "metadata": {
            "tags": []
          },
          "execution_count": 25
        }
      ]
    },
    {
      "cell_type": "code",
      "metadata": {
        "id": "ZRUHupXP7WuF",
        "colab_type": "code",
        "colab": {
          "base_uri": "https://localhost:8080/",
          "height": 170
        },
        "outputId": "49d2183d-0229-4b77-bad3-49a5dc98e166"
      },
      "source": [
        "print(classification_report(y_test,y_pred))"
      ],
      "execution_count": 26,
      "outputs": [
        {
          "output_type": "stream",
          "text": [
            "                    precision    recall  f1-score   support\n",
            "\n",
            "  Cloth Mask Covid       0.78      0.88      0.82         8\n",
            "Covid 19 N95 Masks       0.83      0.71      0.77         7\n",
            "\n",
            "          accuracy                           0.80        15\n",
            "         macro avg       0.81      0.79      0.80        15\n",
            "      weighted avg       0.80      0.80      0.80        15\n",
            "\n"
          ],
          "name": "stdout"
        }
      ]
    },
    {
      "cell_type": "code",
      "metadata": {
        "id": "RZY1-T1IKmIp",
        "colab_type": "code",
        "colab": {}
      },
      "source": [
        "#Predicting for any new image\n",
        "fl = []\n",
        "i = imread('https://assets.bigcartel.com/product_images/257615057/mautto-cloth-face-covering-patterns-sm.jpg?auto=format&amp;fit=max&amp;w=2000')\n",
        "re= resize(i,(100,100,3))\n",
        "fl.append(re.flatten())\n",
        "fl = np.array(fl)\n",
        "y_pred = model.predict(fl)\n",
        "y_pred\n"
      ],
      "execution_count": 27,
      "outputs": []
    },
    {
      "cell_type": "code",
      "metadata": {
        "id": "sbtlzbPV7gvU",
        "colab_type": "code",
        "colab": {}
      },
      "source": [
        ""
      ],
      "execution_count": null,
      "outputs": []
    }
  ]
}